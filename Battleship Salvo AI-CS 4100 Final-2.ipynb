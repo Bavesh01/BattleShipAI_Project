{
 "cells": [
  {
   "cell_type": "code",
   "execution_count": 1,
   "metadata": {},
   "outputs": [
    {
     "name": "stderr",
     "output_type": "stream",
     "text": [
      "/Users/amieramie/opt/anaconda3/lib/python3.7/site-packages/tensorflow/python/framework/dtypes.py:516: FutureWarning: Passing (type, 1) or '1type' as a synonym of type is deprecated; in a future version of numpy, it will be understood as (type, (1,)) / '(1,)type'.\n",
      "  _np_qint8 = np.dtype([(\"qint8\", np.int8, 1)])\n",
      "/Users/amieramie/opt/anaconda3/lib/python3.7/site-packages/tensorflow/python/framework/dtypes.py:517: FutureWarning: Passing (type, 1) or '1type' as a synonym of type is deprecated; in a future version of numpy, it will be understood as (type, (1,)) / '(1,)type'.\n",
      "  _np_quint8 = np.dtype([(\"quint8\", np.uint8, 1)])\n",
      "/Users/amieramie/opt/anaconda3/lib/python3.7/site-packages/tensorflow/python/framework/dtypes.py:518: FutureWarning: Passing (type, 1) or '1type' as a synonym of type is deprecated; in a future version of numpy, it will be understood as (type, (1,)) / '(1,)type'.\n",
      "  _np_qint16 = np.dtype([(\"qint16\", np.int16, 1)])\n",
      "/Users/amieramie/opt/anaconda3/lib/python3.7/site-packages/tensorflow/python/framework/dtypes.py:519: FutureWarning: Passing (type, 1) or '1type' as a synonym of type is deprecated; in a future version of numpy, it will be understood as (type, (1,)) / '(1,)type'.\n",
      "  _np_quint16 = np.dtype([(\"quint16\", np.uint16, 1)])\n",
      "/Users/amieramie/opt/anaconda3/lib/python3.7/site-packages/tensorflow/python/framework/dtypes.py:520: FutureWarning: Passing (type, 1) or '1type' as a synonym of type is deprecated; in a future version of numpy, it will be understood as (type, (1,)) / '(1,)type'.\n",
      "  _np_qint32 = np.dtype([(\"qint32\", np.int32, 1)])\n",
      "/Users/amieramie/opt/anaconda3/lib/python3.7/site-packages/tensorflow/python/framework/dtypes.py:525: FutureWarning: Passing (type, 1) or '1type' as a synonym of type is deprecated; in a future version of numpy, it will be understood as (type, (1,)) / '(1,)type'.\n",
      "  np_resource = np.dtype([(\"resource\", np.ubyte, 1)])\n",
      "/Users/amieramie/opt/anaconda3/lib/python3.7/site-packages/tensorboard/compat/tensorflow_stub/dtypes.py:541: FutureWarning: Passing (type, 1) or '1type' as a synonym of type is deprecated; in a future version of numpy, it will be understood as (type, (1,)) / '(1,)type'.\n",
      "  _np_qint8 = np.dtype([(\"qint8\", np.int8, 1)])\n",
      "/Users/amieramie/opt/anaconda3/lib/python3.7/site-packages/tensorboard/compat/tensorflow_stub/dtypes.py:542: FutureWarning: Passing (type, 1) or '1type' as a synonym of type is deprecated; in a future version of numpy, it will be understood as (type, (1,)) / '(1,)type'.\n",
      "  _np_quint8 = np.dtype([(\"quint8\", np.uint8, 1)])\n",
      "/Users/amieramie/opt/anaconda3/lib/python3.7/site-packages/tensorboard/compat/tensorflow_stub/dtypes.py:543: FutureWarning: Passing (type, 1) or '1type' as a synonym of type is deprecated; in a future version of numpy, it will be understood as (type, (1,)) / '(1,)type'.\n",
      "  _np_qint16 = np.dtype([(\"qint16\", np.int16, 1)])\n",
      "/Users/amieramie/opt/anaconda3/lib/python3.7/site-packages/tensorboard/compat/tensorflow_stub/dtypes.py:544: FutureWarning: Passing (type, 1) or '1type' as a synonym of type is deprecated; in a future version of numpy, it will be understood as (type, (1,)) / '(1,)type'.\n",
      "  _np_quint16 = np.dtype([(\"quint16\", np.uint16, 1)])\n",
      "/Users/amieramie/opt/anaconda3/lib/python3.7/site-packages/tensorboard/compat/tensorflow_stub/dtypes.py:545: FutureWarning: Passing (type, 1) or '1type' as a synonym of type is deprecated; in a future version of numpy, it will be understood as (type, (1,)) / '(1,)type'.\n",
      "  _np_qint32 = np.dtype([(\"qint32\", np.int32, 1)])\n",
      "/Users/amieramie/opt/anaconda3/lib/python3.7/site-packages/tensorboard/compat/tensorflow_stub/dtypes.py:550: FutureWarning: Passing (type, 1) or '1type' as a synonym of type is deprecated; in a future version of numpy, it will be understood as (type, (1,)) / '(1,)type'.\n",
      "  np_resource = np.dtype([(\"resource\", np.ubyte, 1)])\n"
     ]
    }
   ],
   "source": [
    "#STEP 1\n",
    "import numpy as np\n",
    "import random\n",
    "import tensorflow as tf\n",
    "import math\n",
    "from collections import Counter\n",
    "from itertools import combinations\n",
    "from copy import deepcopy"
   ]
  },
  {
   "cell_type": "code",
   "execution_count": 2,
   "metadata": {},
   "outputs": [],
   "source": [
    "#STEP 2\n",
    "#allows us to see how many actions sets would exist for a n = board_size^2 and a r = # of shots/turn \n",
    "def nCr(n,r):\n",
    "    f = math.factorial\n",
    "    return f(n) / f(r) / f(n-r)"
   ]
  },
  {
   "cell_type": "code",
   "execution_count": 3,
   "metadata": {},
   "outputs": [],
   "source": [
    "#finding the longest consecutive sequence of the element within a list\n",
    "def longest_seq(seq):\n",
    "    maxrun = -1\n",
    "    rl = {}\n",
    "    lists_of_runs = []\n",
    "    for x in seq:\n",
    "        run = rl[x] = rl.get(x-1, 0) + 1\n",
    "        if run > maxrun:\n",
    "            maxend, maxrun = x, run\n",
    "    return maxrun "
   ]
  },
  {
   "cell_type": "code",
   "execution_count": 4,
   "metadata": {},
   "outputs": [],
   "source": [
    "#code appropriated for the random game board creation use case from here: https://stackoverflow.com/questions/7352684/how-to-find-the-groups-of-consecutive-elements-in-a-numpy-array\n",
    "#input a list and the minimum size of the group needed and get the starting coordinates of all groups\n",
    "#larger than the given size\n",
    "#the groups in [0,0,0,2,2,1,1,1] for example would be [0,0,0] starting at index 0, [2,2] starting at index 3,\n",
    "#and [1,1,1] starting at index 5\n",
    "def group_consecutives(vals, size,step=1):\n",
    "    \"\"\"Return list of consecutive lists of numbers from vals (number list).\"\"\"\n",
    "    run = []\n",
    "    result = [run]\n",
    "    expect = None\n",
    "    for v in vals:\n",
    "        if (v == expect) or (expect is None):\n",
    "            run.append(v)\n",
    "        else:\n",
    "            run = [v]\n",
    "            result.append(run)\n",
    "        expect = v + step\n",
    "    return [element for element in result if len(element) >= size ]"
   ]
  },
  {
   "cell_type": "code",
   "execution_count": 5,
   "metadata": {},
   "outputs": [],
   "source": [
    "def create_random_board(SHIP_SIZES, board_size):\n",
    "    #creating a random board of board_size x board_size filled initally with -1's\n",
    "    board = np.zeros((board_size,board_size),dtype=(int))\n",
    "    board[:] = -1\n",
    "    \n",
    "    #iterating through placing each ship size\n",
    "    for ship_size in SHIP_SIZES:\n",
    "        #finding the remaining coordinates where we can place a ship\n",
    "        possible_ship_coords = np.array(np.where(board == -1)).transpose()\n",
    "        #if statement is to be able to randomly place the ship horizontally or vertically\n",
    "        if random.uniform(0, 1)>.5:\n",
    "            #horizontal\n",
    "            #finding all possible rows that have enough space for the current ship size\n",
    "            possible_rows = np.unique(possible_ship_coords[:,0])\n",
    "            possible_rows = possible_rows[np.where(np.array([longest_seq(possible_ship_coords[possible_ship_coords[:,0]==row][:,1]) for row in possible_rows])>=ship_size)[0]]\n",
    "            \n",
    "            #if there are ways to place the current ship size into any of the rows then randomly place it\n",
    "            #in one of those places\n",
    "            \n",
    "            #if not find out if there are ways to place the current ship size along the columns\n",
    "            if len(possible_rows)>0:\n",
    "                #choose a random row out of the possible rows\n",
    "                row = random.choice(possible_rows)\n",
    "                #get the starting column coordinate of all starting coordinates that have enough spaces to the right\n",
    "                #to fit the ship - this is found using the group_consecutives list\n",
    "                spaces = group_consecutives(possible_ship_coords[possible_ship_coords[:,0] == row][:,1],ship_size)\n",
    "                #choose a random starting column coordinate from the list of column coordinates that can fit\n",
    "                #the current sized ship\n",
    "                space = random.choice(spaces)\n",
    "                #the consecutive group size may be larger than the ship size so the first index\n",
    "                #of the group may not be the only viable starting coordinate for the ship\n",
    "                #because of this we find the other viable coordinates within the group that are also viable\n",
    "                #the starting column index will be that index\n",
    "                column = space[random.choice(list(range(len(space)-ship_size+1)))]\n",
    "                #setting everything to the right of that starting element equal to the ship size (representing the ship location)\n",
    "                board[row,column:column+ship_size] = ship_size\n",
    "                #print('Created ship horizontally')\n",
    "            else:\n",
    "                #if there are no more ways to place a ship horizontally then try vertically\n",
    "                #go through the same exact process as above except trying to place a ship along a single column\n",
    "                #across several rows\n",
    "                possible_columns = np.unique(possible_ship_coords[:,0])\n",
    "                possible_columns = possible_columns[np.where(np.array([longest_seq(possible_ship_coords[possible_ship_coords[:,1]==column][:,0]) for column in possible_columns])>=ship_size)[0]]\n",
    "                if len(possible_columns)>0:\n",
    "                    column = random.choice(possible_columns)\n",
    "                    spaces = group_consecutives(possible_ship_coords[possible_ship_coords[:,1] == column][:,0],ship_size)\n",
    "                    space = random.choice(spaces)\n",
    "                    row = space[random.choice(list(range(len(space)-ship_size+1)))]\n",
    "                    board[row:row+ship_size,column] = ship_size\n",
    "                    #print('Created ship vertically')\n",
    "                else:\n",
    "                    #if this fails there are no ways to place the current ship size in the current board\n",
    "                    #configuration so skip the ship\n",
    "                    #this would likely only happen if we have a lot of large ships in a comparitively small board\n",
    "                    print('No more spaces to place ship, going on to the next ship')\n",
    "        else:\n",
    "            #go through the same exact process if we intially chose to place the current sized ship along a single column instead\n",
    "            possible_columns = np.unique(possible_ship_coords[:,0])\n",
    "            possible_columns = possible_columns[np.where(np.array([longest_seq(possible_ship_coords[possible_ship_coords[:,1]==column][:,0]) for column in possible_columns])>=ship_size)[0]]\n",
    "            if len(possible_columns)>0:\n",
    "                column = random.choice(possible_columns)\n",
    "                spaces = group_consecutives(possible_ship_coords[possible_ship_coords[:,1] == column][:,0],ship_size)\n",
    "                space = random.choice(spaces)\n",
    "                row = space[random.choice(list(range(len(space)-ship_size+1)))]\n",
    "                board[row:row+ship_size,column] = ship_size\n",
    "                #print('Created ship vertically')\n",
    "            else:\n",
    "                possible_rows = np.unique(possible_ship_coords[:,0])\n",
    "                possible_rows = possible_rows[np.where(np.array([longest_seq(possible_ship_coords[possible_ship_coords[:,0]==row][:,1]) for row in possible_rows])>=ship_size)[0]]\n",
    "                if len(possible_rows)>0:\n",
    "                    row = random.choice(possible_rows)\n",
    "                    spaces = group_consecutives(possible_ship_coords[possible_ship_coords[:,0] == row][:,1],ship_size)\n",
    "                    space = random.choice(spaces)\n",
    "                    column = space[random.choice(list(range(len(space)-ship_size+1)))]\n",
    "                    board[row,column:column+ship_size] = ship_size \n",
    "                    #print('Created ship horizontally')\n",
    "                else:\n",
    "                    print('No more spaces to place ship, going on to the next ship')\n",
    "    return board"
   ]
  },
  {
   "cell_type": "code",
   "execution_count": 6,
   "metadata": {},
   "outputs": [],
   "source": [
    "SHIP_SIZES = [3,2,2]\n",
    "board_size = 5\n",
    "board = create_random_board(SHIP_SIZES, board_size)"
   ]
  },
  {
   "cell_type": "code",
   "execution_count": 7,
   "metadata": {},
   "outputs": [
    {
     "data": {
      "text/plain": [
       "array([[-1, -1, -1, -1, -1],\n",
       "       [-1, -1, -1,  3, -1],\n",
       "       [ 2, -1, -1,  3,  2],\n",
       "       [ 2, -1, -1,  3,  2],\n",
       "       [-1, -1, -1, -1, -1]])"
      ]
     },
     "execution_count": 7,
     "metadata": {},
     "output_type": "execute_result"
    }
   ],
   "source": [
    "board"
   ]
  },
  {
   "cell_type": "code",
   "execution_count": 8,
   "metadata": {},
   "outputs": [],
   "source": [
    "#changing board based on this methodology: hits -> 1, 0 -> misses, -1 -> unknown/not shot at yet\n",
    "#takes in a board, a list of coordinates to shoot at, and the number of moves per turn\n",
    "def play_move(g_board, moves_arr, num_moves_in_turn):\n",
    "    #setting a new copy of a gameboard\n",
    "    game_board = g_board + 1 - 1\n",
    "    #arbitrary metric to see how many hits/misses we have in the current state\n",
    "    previous_state = sum((game_board == 1).flatten())/sum((game_board == 0).flatten())\n",
    "    #in case the moves_arr has more moves than the number of shots/turn\n",
    "    moves = moves_arr[0:num_moves_in_turn]\n",
    "    hits = 0\n",
    "    misses = 0\n",
    "    repeat = 0\n",
    "    count = 1\n",
    "    #for each shot in the moves array make the correct change on the game board and count hits and misses\n",
    "    for move in moves:\n",
    "        if game_board[move[0]][move[1]] == -1:\n",
    "            game_board[move[0]][move[1]] = 0\n",
    "            misses +=1\n",
    "        elif game_board[move[0]][move[1]] > 1:\n",
    "            game_board[move[0]][move[1]] = 1\n",
    "            hits+=1\n",
    "        else:\n",
    "            repeat+=1\n",
    "        count+=1\n",
    "        \n",
    "    #find the spots that haven't been shot at yet\n",
    "    available_spots = ((game_board == -1)|(game_board > 1)).flatten()\n",
    "    available_moves = np.where(available_spots==True)[0]\n",
    "    return (game_board,previous_state,hits,repeat, available_moves,sum((game_board == 1).flatten()))#new game board, number of hits and misses previous turns, number of hits and misses this turn, possible moves next turn, total number of hits"
   ]
  },
  {
   "cell_type": "code",
   "execution_count": 9,
   "metadata": {},
   "outputs": [],
   "source": [
    "#Used for creating the all_coords array - an array with all the possible coords in a board found by \n",
    "#iterating row by row \n",
    "#getting all possible coordinates within a board found by iterating across each row\n",
    "def possible_moves(board_size):\n",
    "    return np.array([[row,column] for row in range(board_size) for column in range(board_size)])"
   ]
  },
  {
   "cell_type": "code",
   "execution_count": 10,
   "metadata": {},
   "outputs": [],
   "source": [
    "#Used for creating possible_combinations array - an array with a aseries of actions sets \n",
    "#where each action set contains a series of indexes referencing a coordinate in the all_coords array\n",
    "#the possible_combinations array represents all possible action sets and its indexes will align with output \n",
    "#probability array from the NN\n",
    "#getting all possible actions sets given the size of the board and the number of moves per turn\n",
    "def possible_move_sets(board_size, number_moves_in_turn):\n",
    "    comb = combinations(list(range(0,board_size*board_size)), number_moves_in_turn)\n",
    "    return list(comb)"
   ]
  },
  {
   "cell_type": "code",
   "execution_count": 11,
   "metadata": {},
   "outputs": [],
   "source": [
    "TRAINING = True\n",
    "RANDOM = False\n",
    "def play_game(training=TRAINING,random = RANDOM):\n",
    "    \"\"\" Play game of battleship using network.\"\"\"\n",
    "    #initializing array such that we can keep track of coords that we cannot revisit after already shooting at them\n",
    "    impossible_coords = np.array([])\n",
    "    #creating random board\n",
    "    board = create_random_board(SHIP_SIZES, board_size)\n",
    "    #creating the NN version of board that can be passed into the NN: 1 = hits, 0 = misses, -1 = unknown\n",
    "    nn_board = deepcopy(board)\n",
    "    nn_board[nn_board>1] = -1\n",
    "    # Initialize logs for game\n",
    "    # initializing logs for keeping track of boards, nn_boards, actions sets taken, and hits after each action\n",
    "    board_position_log = [board]\n",
    "    board_position_log_nn = [nn_board]\n",
    "    action_log = []\n",
    "    hit_log = []\n",
    "    # allows us to toggle between random player and trained AI\n",
    "    if not random:\n",
    "        #TRAINED AI\n",
    "        #until we have hit all the ships keep playing moves\n",
    "        while sum(hit_log) < sum(SHIP_SIZES):\n",
    "            #given the current NN run the nn_board through the architecture and get the probability distribution acrioss all possible action sets\n",
    "            probs = sess.run([probabilities], feed_dict={input_positions:nn_board.flatten().reshape(-1,board_size*board_size)})[0][0]\n",
    "            #0 out all probabilities for actions sets that are not possible i.e. one or more of their coordinates has been shot at already\n",
    "            probs = [p * (index not in impossible_coords) for index, p in enumerate(probs)]\n",
    "            #renormalize the resulting probability distribtuion so everything adds up to 1\n",
    "            probs = [p / sum(probs) for p in probs]\n",
    "            #this is a toggle to be able to train stochastically, such that we have some chance of exploration\n",
    "            if training == True:\n",
    "                #This if statement allows us to deal with cases where there are fewer coordinates left \n",
    "                #to be shot at than the number of actions in an action set (number of shots per turn).\n",
    "                #In this case, since there will be no possible action set that is viable (all of them would have been 0'd out\n",
    "                #since at least one coordinate in every set would have been shot at), the last turn will be simply shooting at\n",
    "                #the remaining available coordinates. Look at the else statement for what is done in that case\n",
    "                if number_moves_per_turn <= sum(((board == -1)|(board >1)).flatten()):\n",
    "                    #if there are still action sets that are viable pick a random action set from the list of\n",
    "                    #all actions sets stochastically based on the NN ouput probs\n",
    "                    index = np.random.choice(list(range(0,len(possible_combinations))), p=probs)\n",
    "                    bomb_index = possible_combinations[index]\n",
    "                else:\n",
    "                    #if there are fewer available coords left then actions in an action set (# shots/turn)\n",
    "                    #then find the remaining coordinates and shoot them out, since there will be no action\n",
    "                    #set available to do so\n",
    "                    remaining_coords = np.where(((board).flatten()==-1)|((board).flatten()>1))[0]\n",
    "                    moves = all_coords[remaining_coords]\n",
    "                    #play out shooting at those coordinates\n",
    "                    move_out = play_move(board, moves, sum(((board == -1)|(board >1)).flatten()))\n",
    "                    #get the resulting board\n",
    "                    board = move_out[0]\n",
    "                    #create the NN version of that board\n",
    "                    nn_board = deepcopy(board)\n",
    "                    nn_board[nn_board>1] = -1\n",
    "                    #get the number of hits from the shot(s) and append it to the log\n",
    "                    hit_log.append(move_out[2])\n",
    "                    #append the action index to the action log and the board states into their respective logs as well\n",
    "                    for coordinate_index in remaining_coords:\n",
    "                        action_log.append(coordinate_index)\n",
    "                    board_position_log.append(board)\n",
    "                    board_position_log_nn.append(nn_board)\n",
    "                    #break from the loop since this case would only happen if we've filled up the entire\n",
    "                    #board except a couple of spots\n",
    "                    break\n",
    "            else:\n",
    "                #if we're not training go through the same process, but instead of stochastically choosing\n",
    "                #the next action set, deterministically choose the next actions set based on the NN probs\n",
    "                \n",
    "                #this if statement is again to deal with the case where there are fewer available coords \n",
    "                #left then actions in an action set (# shots/turn)\n",
    "                if number_moves_per_turn <= sum(((board == -1)|(board >1)).flatten()):\n",
    "                    index = np.argmax(probs)\n",
    "                    bomb_index = possible_combinations[index]\n",
    "\n",
    "                else:\n",
    "                    #same methodology as whats in the training process\n",
    "                    remaining_coords = np.where(((board).flatten()==-1)|((board).flatten()>1))[0]\n",
    "                    moves = all_coords[remaining_coords]\n",
    "                    move_out = play_move(board, moves, sum(((board == -1)|(board >1)).flatten()))\n",
    "                    board = move_out[0]\n",
    "                    nn_board = deepcopy(board)\n",
    "                    nn_board[nn_board>1] = -1    \n",
    "                    hit_log.append(move_out[2])\n",
    "                    for coordinate_index in remaining_coords:\n",
    "                        action_log.append(coordinate_index)\n",
    "                    board_position_log.append(board)\n",
    "                    board_position_log_nn.append(nn_board)\n",
    "                    break\n",
    "            #an action set where the number of shots/turn is 2 for example would look like this:\n",
    "            #(2,4). If we assume a 4x4 board 2 would correspond to [0,2] and 4 would correspond to [1,0].\n",
    "            #this is because the data structure: all_coords, is a list of all possible coordinates for a board\n",
    "            #created by iterating through each row\n",
    "            #therefore this is pulling out the corresponding coordinates from the action set and putting them\n",
    "            #into a list that will then be used in the play_move function\n",
    "            moves = [all_coords[shot] for shot in bomb_index]\n",
    "            #play move based on all board, shots, and the number of moves per turn\n",
    "            move_out = play_move(board, moves, number_moves_per_turn)\n",
    "            #saving the new resulting board\n",
    "            board = move_out[0]\n",
    "            #creating the NN board representation from that new board\n",
    "            nn_board = deepcopy(board)\n",
    "            nn_board[nn_board>1] = -1   \n",
    "            # update logs  \n",
    "            hit_log.append(move_out[2])\n",
    "            action_log.append(index)\n",
    "            board_position_log.append(board)\n",
    "            board_position_log_nn.append(nn_board)\n",
    "            \n",
    "            #here we are trying to recalculate all the action sets that should no longer be considered\n",
    "            #the way we do that is checking if any dimension within the action set has a coordinate that was just shot at.\n",
    "            #If any action set has a coordinate that has already been shot at append its index from the action set list to the\n",
    "            #impossible_coords list so we can 0 it out in the NN output probs \n",
    "            for coord_index in bomb_index :\n",
    "                for column in range (number_moves_per_turn):\n",
    "                    impossible_coords = np.concatenate((impossible_coords,np.where(possible_combinations[:,column]==coord_index)[0]),axis = 0)\n",
    "    else:\n",
    "        #RANDOM PLAYER\n",
    "        #until we have hit all the ships keep playing moves\n",
    "        while sum(hit_log) < sum(SHIP_SIZES):\n",
    "            #creating a uniform probability distribution across all the possible action sets\n",
    "            probs = [1/len(possible_combinations)]*len(possible_combinations)\n",
    "            #0'ing out all probabilities associated with actions sets that have a coordinate that has already\n",
    "            #been shot at\n",
    "            probs = [p * (index not in impossible_coords) for index, p in enumerate(probs)]\n",
    "            #this if statement is again to deal with the case where there are fewer available coords \n",
    "            #left then actions in an action set (# shots/turn)\n",
    "            if number_moves_per_turn <= sum(((board == -1)|(board >1)).flatten()):\n",
    "                #if we still have action set available, since we have more coordinates left to be shot than\n",
    "                #actions in the action set (number of shots/turn) #then renormalize the probabilities such\n",
    "                #that the add to 1\n",
    "                probs = [p / sum(probs) for p in probs] \n",
    "                #select a random action set index and action set based on those even probabilities\n",
    "                index = np.random.choice(list(range(0,len(possible_combinations))), p=probs)\n",
    "                bomb_index = possible_combinations[index]\n",
    "            else:\n",
    "                #if we do not have an action set available find the remaining coords that need to be shot at\n",
    "                bomb_index = np.where(((board).flatten()==-1)|((board).flatten()>1))[0]\n",
    "            #again pulling all the coordinates \n",
    "            moves = [all_coords[shot] for shot in bomb_index]\n",
    "            #playing move\n",
    "            move_out = play_move(board, moves, number_moves_per_turn)\n",
    "            #saving the new resulting board\n",
    "            board = move_out[0]\n",
    "            #creating the NN board representation from that new board\n",
    "            nn_board = deepcopy(board)\n",
    "            nn_board[nn_board>1] = -1   \n",
    "            # update logs  \n",
    "            hit_log.append(move_out[2])\n",
    "            action_log.append(index)\n",
    "            board_position_log.append(board)\n",
    "            board_position_log_nn.append(nn_board)\n",
    "            \n",
    "            #same as above -> adding the coords we should not re shoot at into the impossible_coords list\n",
    "            for coord_index in bomb_index :\n",
    "                for column in range (number_moves_per_turn):\n",
    "                    impossible_coords = np.concatenate((impossible_coords,np.where(possible_combinations[:,column]==coord_index)[0]),axis = 0)    \n",
    "    return board_position_log_nn,board_position_log, action_log, hit_log#, repeat, np.array(actual_actions), impossible_coords,list_of_probs"
   ]
  },
  {
   "cell_type": "code",
   "execution_count": 12,
   "metadata": {},
   "outputs": [],
   "source": [
    "#pulled from https://www.efavdb.com/battleship\n",
    "#explaination is in paper\n",
    "def rewards_calculator(hit_log, gamma=0.5):\n",
    "    #the if statement was added to potentially tune a higher rewards value for having multiple hits within a turn\n",
    "    \"\"\" Discounted sum of future hits over trajectory\"\"\"\n",
    "    hit_log_weighted = [(item - float( sum(SHIP_SIZES) - sum(hit_log[:index])) / float(board_size**2 - index))* (gamma ** index)\n",
    "    if item>1 else (item -float( sum(SHIP_SIZES) - sum(hit_log[:index])) / float(board_size**2 - index)) \n",
    "    * (gamma ** index) for index, item in enumerate(hit_log)]\n",
    "    return [((gamma) ** (-i)) * sum(hit_log_weighted[i:]) for i in range(len(hit_log))]"
   ]
  },
  {
   "cell_type": "code",
   "execution_count": 13,
   "metadata": {},
   "outputs": [],
   "source": [
    "#STEP 3\n",
    "#setting board conditions\n",
    "SHIP_SIZES = [4,2]\n",
    "board_size = 4\n",
    "number_moves_per_turn = 1"
   ]
  },
  {
   "cell_type": "code",
   "execution_count": 14,
   "metadata": {},
   "outputs": [
    {
     "name": "stdout",
     "output_type": "stream",
     "text": [
      "WARNING:tensorflow:From /Users/amieramie/opt/anaconda3/lib/python3.7/site-packages/tensorflow/python/util/tf_should_use.py:193: initialize_all_variables (from tensorflow.python.ops.variables) is deprecated and will be removed after 2017-03-02.\n",
      "Instructions for updating:\n",
      "Use `tf.global_variables_initializer` instead.\n"
     ]
    }
   ],
   "source": [
    "#STEP 4\n",
    "#pulled from https://www.efavdb.com/battleship\n",
    "#using the same exact NN architecture as the one in the article\n",
    "input_units = board_size*board_size\n",
    "hidden_units = board_size*board_size\n",
    "output_units = int(nCr(hidden_units,number_moves_per_turn))\n",
    "\n",
    "input_positions = tf.placeholder(tf.float32, shape=(1, input_units))\n",
    "labels = tf.placeholder(tf.int64)\n",
    "learning_rate = tf.placeholder(tf.float32, shape=[])\n",
    "# Generate hidden layer\n",
    "W1 = tf.Variable(tf.truncated_normal([input_units, hidden_units], stddev=0.1 / np.sqrt(float(input_units))))\n",
    "\n",
    "b1 = tf.Variable(tf.zeros([1, hidden_units]))\n",
    "h1 = tf.tanh(tf.matmul(input_positions, W1) + b1)\n",
    "# Second layer -- linear classifier for action logits\n",
    "W2 = tf.Variable(tf.truncated_normal([hidden_units, output_units], stddev=0.1 / np.sqrt(float(hidden_units))))\n",
    "b2 = tf.Variable(tf.zeros([1, output_units]))\n",
    "logits = tf.matmul(h1, W2) + b2\n",
    "probabilities = tf.nn.softmax(logits)\n",
    "\n",
    "init = tf.initialize_all_variables()\n",
    "cross_entropy = tf.nn.sparse_softmax_cross_entropy_with_logits(logits = logits, labels = labels, name='xentropy')\n",
    "train_step = tf.train.GradientDescentOptimizer(learning_rate=learning_rate).minimize(cross_entropy)\n",
    "# Start TF session\n",
    "sess = tf.Session()\n",
    "sess.run(init)"
   ]
  },
  {
   "cell_type": "code",
   "execution_count": 15,
   "metadata": {},
   "outputs": [],
   "source": [
    "#STEP 5\n",
    "#creating the all_coords array - an array with all the possible coords in a board found by iterating row by row\n",
    "#also creating possible_combinations array - an array with a aseries of actions sets where each action set contains\n",
    "#a series of indexes referencing a coordinate in the all_coords array\n",
    "#the possible_combinations array represents all possible action sets and its indexes will align with output probability array\n",
    "#from the NN\n",
    "TRAINING = True\n",
    "RANDOM = False\n",
    "all_coords = possible_moves(board_size)\n",
    "possible_combinations = np.array(possible_move_sets(board_size, number_moves_per_turn))"
   ]
  },
  {
   "cell_type": "code",
   "execution_count": 16,
   "metadata": {},
   "outputs": [
    {
     "name": "stderr",
     "output_type": "stream",
     "text": [
      "/Users/amieramie/opt/anaconda3/lib/python3.7/site-packages/ipykernel_launcher.py:7: RuntimeWarning: invalid value encountered in long_scalars\n",
      "  import sys\n"
     ]
    }
   ],
   "source": [
    "#testing game play mechanic\n",
    "board_position_log_nn,board_position_log, action_log, hit_log = play_game(training=True,random = False)"
   ]
  },
  {
   "cell_type": "code",
   "execution_count": 17,
   "metadata": {},
   "outputs": [
    {
     "name": "stderr",
     "output_type": "stream",
     "text": [
      "/Users/amieramie/opt/anaconda3/lib/python3.7/site-packages/ipykernel_launcher.py:7: RuntimeWarning: invalid value encountered in long_scalars\n",
      "  import sys\n",
      "/Users/amieramie/opt/anaconda3/lib/python3.7/site-packages/ipykernel_launcher.py:7: RuntimeWarning: divide by zero encountered in long_scalars\n",
      "  import sys\n"
     ]
    },
    {
     "name": "stdout",
     "output_type": "stream",
     "text": [
      "0\n",
      "500\n",
      "1000\n",
      "1500\n",
      "2000\n",
      "2500\n",
      "3000\n",
      "3500\n",
      "4000\n",
      "4500\n",
      "5000\n",
      "5500\n",
      "6000\n",
      "6500\n",
      "7000\n",
      "7500\n",
      "8000\n",
      "8500\n",
      "9000\n",
      "9500\n"
     ]
    }
   ],
   "source": [
    "#pulled from https://www.efavdb.com/battleship\n",
    "#iterating through simulating games and using the resulting hits log(and the calculated rewards from the hits log)\n",
    "#to backpropogate and update the weights\n",
    "game_lengths = []\n",
    "TRAINING = True # Boolean specifies training mode\n",
    "ALPHA = 0.06 # step size\n",
    "rewards = []\n",
    "for game in range(10000):\n",
    "    board_position_log_nn, board_position_log, action_log, hit_log  = play_game(training=TRAINING,random = False)\n",
    "    game_lengths.append(len(action_log))\n",
    "    rewards_log = rewards_calculator(hit_log)\n",
    "    rewards.append(sum(rewards_log))\n",
    "    for reward, current_board, action in zip(rewards_log, board_position_log_nn, action_log):\n",
    "        # Take step along gradient\n",
    "        if TRAINING:\n",
    "            sess.run([train_step],\n",
    "                feed_dict={input_positions:current_board.flatten().reshape(-1,board_size*board_size), labels:[action], learning_rate:ALPHA * reward})\n",
    "    if game%500 == 0:\n",
    "        print(game)"
   ]
  },
  {
   "cell_type": "code",
   "execution_count": 18,
   "metadata": {},
   "outputs": [
    {
     "name": "stderr",
     "output_type": "stream",
     "text": [
      "/Users/amieramie/opt/anaconda3/lib/python3.7/site-packages/ipykernel_launcher.py:7: RuntimeWarning: invalid value encountered in long_scalars\n",
      "  import sys\n",
      "/Users/amieramie/opt/anaconda3/lib/python3.7/site-packages/ipykernel_launcher.py:7: RuntimeWarning: divide by zero encountered in long_scalars\n",
      "  import sys\n"
     ]
    },
    {
     "data": {
      "text/plain": [
       "11.756"
      ]
     },
     "execution_count": 18,
     "metadata": {},
     "output_type": "execute_result"
    }
   ],
   "source": [
    "#STEP 6\n",
    "#getting the average number of moves the AI needed to solve a set of 500 games - using deterministic gameplay\n",
    "#where we always pick the action set with the highest probability (unlike the stochastic training)\n",
    "num_actions = []\n",
    "for i in range(0,500):\n",
    "    board_position_log_nn,board_position_log, action_log, hit_log = play_game(training=False, random = False)\n",
    "    num_actions.append(len(action_log))\n",
    "np.array(num_actions).mean()"
   ]
  },
  {
   "cell_type": "code",
   "execution_count": 19,
   "metadata": {},
   "outputs": [
    {
     "name": "stderr",
     "output_type": "stream",
     "text": [
      "/Users/amieramie/opt/anaconda3/lib/python3.7/site-packages/ipykernel_launcher.py:7: RuntimeWarning: invalid value encountered in long_scalars\n",
      "  import sys\n",
      "/Users/amieramie/opt/anaconda3/lib/python3.7/site-packages/ipykernel_launcher.py:7: RuntimeWarning: divide by zero encountered in long_scalars\n",
      "  import sys\n"
     ]
    },
    {
     "data": {
      "text/plain": [
       "14.696"
      ]
     },
     "execution_count": 19,
     "metadata": {},
     "output_type": "execute_result"
    }
   ],
   "source": [
    "#getting the average number of moves the random player needed to solve a set of 500 games\n",
    "num_actions = []\n",
    "for i in range(0,500):\n",
    "    board_position_log_nn,board_position_log, action_log, hit_log = play_game(training=False,random=True)\n",
    "    num_actions.append(len(action_log))\n",
    "np.array(num_actions).mean()"
   ]
  },
  {
   "cell_type": "code",
   "execution_count": null,
   "metadata": {},
   "outputs": [],
   "source": [
    "#STEP 7\n",
    "#A SERIES OF GRAPHS FOR EACH BOARD CASE\n",
    "#Each data point in the graph represents the average number of moves taken to solve boards for sets of 100 games simulated \n",
    "#The data points are taken across 10000 iterations of training to see if the average number of moves needed\n",
    "#for a given board case goes down with more training (i.e. is the AI actually learning)"
   ]
  },
  {
   "cell_type": "code",
   "execution_count": 20,
   "metadata": {},
   "outputs": [],
   "source": [
    "import matplotlib.pyplot as plt"
   ]
  },
  {
   "cell_type": "code",
   "execution_count": 357,
   "metadata": {},
   "outputs": [
    {
     "data": {
      "text/plain": [
       "[<matplotlib.lines.Line2D at 0x7fef7f84ac90>]"
      ]
     },
     "execution_count": 357,
     "metadata": {},
     "output_type": "execute_result"
    },
    {
     "data": {
      "image/png": "[encoded data removed]",
      "text/plain": [
       "<Figure size 432x288 with 1 Axes>"
      ]
     },
     "metadata": {
      "needs_background": "light"
     },
     "output_type": "display_data"
    }
   ],
   "source": [
    "#board size 5; ship sizes 3,2,2; number of moves per turn 1 -> 13s /500\n",
    "# step = 100\n",
    "# average_num_moves =[]\n",
    "# for i in range(0,10000,step):\n",
    "#     average_num_moves.append(np.array(game_lengths[i:i+step]).mean())\n",
    "# plt.plot(range(0,10000,step),average_num_moves,'ro')"
   ]
  },
  {
   "cell_type": "code",
   "execution_count": null,
   "metadata": {},
   "outputs": [],
   "source": []
  },
  {
   "cell_type": "code",
   "execution_count": 312,
   "metadata": {},
   "outputs": [
    {
     "name": "stderr",
     "output_type": "stream",
     "text": [
      "/Users/amieramie/opt/anaconda3/lib/python3.7/site-packages/ipykernel_launcher.py:5: RuntimeWarning: Mean of empty slice.\n",
      "  \"\"\"\n"
     ]
    },
    {
     "data": {
      "text/plain": [
       "[<matplotlib.lines.Line2D at 0x7fef7f416dd0>]"
      ]
     },
     "execution_count": 312,
     "metadata": {},
     "output_type": "execute_result"
    },
    {
     "data": {
      "image/png": "[encoded data removed]",
      "text/plain": [
       "<Figure size 432x288 with 1 Axes>"
      ]
     },
     "metadata": {
      "needs_background": "light"
     },
     "output_type": "display_data"
    }
   ],
   "source": [
    "#board size 4; ship sizes 2; number of moves per turn 2 -> 13s /500\n",
    "# step = 100\n",
    "# average_num_moves =[]\n",
    "# for i in range(0,10000,step):\n",
    "#     average_num_moves.append(np.array(game_lengths[i:i+step]).mean())\n",
    "# plt.plot(range(0,10000,step),average_num_moves,'ro')"
   ]
  },
  {
   "cell_type": "code",
   "execution_count": 305,
   "metadata": {},
   "outputs": [
    {
     "name": "stderr",
     "output_type": "stream",
     "text": [
      "/Users/amieramie/opt/anaconda3/lib/python3.7/site-packages/ipykernel_launcher.py:5: RuntimeWarning: Mean of empty slice.\n",
      "  \"\"\"\n"
     ]
    },
    {
     "data": {
      "text/plain": [
       "[<matplotlib.lines.Line2D at 0x7fef7e6c9c90>]"
      ]
     },
     "execution_count": 305,
     "metadata": {},
     "output_type": "execute_result"
    },
    {
     "data": {
      "image/png": "[encoded data removed]",
      "text/plain": [
       "<Figure size 432x288 with 1 Axes>"
      ]
     },
     "metadata": {
      "needs_background": "light"
     },
     "output_type": "display_data"
    }
   ],
   "source": [
    "#board size 4; ship sizes 2,2; number of moves per turn 2 -> 13s /500\n",
    "# step = 100\n",
    "# average_num_moves =[]\n",
    "# for i in range(0,10000,step):\n",
    "#     average_num_moves.append(np.array(game_lengths[i:i+step]).mean())\n",
    "# plt.plot(range(0,10000,step),average_num_moves,'ro')"
   ]
  },
  {
   "cell_type": "code",
   "execution_count": 388,
   "metadata": {
    "scrolled": true
   },
   "outputs": [
    {
     "data": {
      "text/plain": [
       "[<matplotlib.lines.Line2D at 0x7fef7fc20810>]"
      ]
     },
     "execution_count": 388,
     "metadata": {},
     "output_type": "execute_result"
    },
    {
     "data": {
      "image/png": "[encoded data removed]",
      "text/plain": [
       "<Figure size 432x288 with 1 Axes>"
      ]
     },
     "metadata": {
      "needs_background": "light"
     },
     "output_type": "display_data"
    }
   ],
   "source": [
    "#board size 4; ship sizes 4,2; number of moves per turn 2 -> 14s /500\n",
    "# step = 100\n",
    "# average_num_moves =[]\n",
    "# for i in range(0,10000,step):\n",
    "#     average_num_moves.append(np.array(game_lengths[i:i+step]).mean())\n",
    "# plt.plot(range(0,10000,step),average_num_moves,'ro')"
   ]
  },
  {
   "cell_type": "code",
   "execution_count": 21,
   "metadata": {},
   "outputs": [
    {
     "data": {
      "text/plain": [
       "[<matplotlib.lines.Line2D at 0x7fb695799850>]"
      ]
     },
     "execution_count": 21,
     "metadata": {},
     "output_type": "execute_result"
    },
    {
     "data": {
      "image/png": "[encoded data removed]",
      "text/plain": [
       "<Figure size 432x288 with 1 Axes>"
      ]
     },
     "metadata": {
      "needs_background": "light"
     },
     "output_type": "display_data"
    }
   ],
   "source": [
    "# #board size 4; ship sizes 4,2; number of moves per turn 1 -> 14s /500\n",
    "# step = 100\n",
    "# average_num_moves =[]\n",
    "# for i in range(0,10000,step):\n",
    "#     average_num_moves.append(np.array(game_lengths[i:i+step]).mean())\n",
    "# plt.plot(range(0,10000,step),average_num_moves,'ro')"
   ]
  },
  {
   "cell_type": "code",
   "execution_count": 237,
   "metadata": {},
   "outputs": [
    {
     "data": {
      "text/plain": [
       "[<matplotlib.lines.Line2D at 0x7fef7d5521d0>]"
      ]
     },
     "execution_count": 237,
     "metadata": {},
     "output_type": "execute_result"
    },
    {
     "data": {
      "image/png": "[encoded data removed]",
      "text/plain": [
       "<Figure size 432x288 with 1 Axes>"
      ]
     },
     "metadata": {
      "needs_background": "light"
     },
     "output_type": "display_data"
    }
   ],
   "source": [
    "#board size 4; ship sizes 4; number of moves per turn 2 -> 11s /500\n",
    "# step = 100\n",
    "# average_num_moves =[]\n",
    "# for i in range(0,10000,step):\n",
    "#     average_num_moves.append(np.array(game_lengths[i:i+step]).mean())\n",
    "# plt.plot(range(0,10000,step),average_num_moves,'ro')"
   ]
  },
  {
   "cell_type": "code",
   "execution_count": 224,
   "metadata": {},
   "outputs": [
    {
     "data": {
      "text/plain": [
       "[<matplotlib.lines.Line2D at 0x7fef7cfcf090>]"
      ]
     },
     "execution_count": 224,
     "metadata": {},
     "output_type": "execute_result"
    },
    {
     "data": {
      "image/png": "[encoded data removed]",
      "text/plain": [
       "<Figure size 432x288 with 1 Axes>"
      ]
     },
     "metadata": {
      "needs_background": "light"
     },
     "output_type": "display_data"
    }
   ],
   "source": [
    "#board size 4; ship sizes 4; number of moves per turn 1 -> 3s /500\n",
    "# step = 100\n",
    "# average_num_moves =[]\n",
    "# for i in range(0,10000,step):\n",
    "#     average_num_moves.append(np.array(game_lengths[i:i+step]).mean())\n",
    "# plt.plot(range(0,10000,step),average_num_moves,'ro')"
   ]
  },
  {
   "cell_type": "code",
   "execution_count": 218,
   "metadata": {
    "scrolled": true
   },
   "outputs": [
    {
     "data": {
      "text/plain": [
       "[<matplotlib.lines.Line2D at 0x7fef7ca2ed90>]"
      ]
     },
     "execution_count": 218,
     "metadata": {},
     "output_type": "execute_result"
    },
    {
     "data": {
      "image/png": "[encoded data removed]",
      "text/plain": [
       "<Figure size 432x288 with 1 Axes>"
      ]
     },
     "metadata": {
      "needs_background": "light"
     },
     "output_type": "display_data"
    }
   ],
   "source": [
    "# #board size 5; ship sizes 4,2; number of moves per turn 1 -> 10s/500\n",
    "# step = 100\n",
    "# average_num_moves =[]\n",
    "# for i in range(0,10000,step):\n",
    "#     average_num_moves.append(np.array(game_lengths[i:i+step]).mean())\n",
    "# plt.plot(range(0,10000,step),average_num_moves,'ro')"
   ]
  }
 ],
 "metadata": {
  "kernelspec": {
   "display_name": "Python 3",
   "language": "python",
   "name": "python3"
  },
  "language_info": {
   "codemirror_mode": {
    "name": "ipython",
    "version": 3
   },
   "file_extension": ".py",
   "mimetype": "text/x-python",
   "name": "python",
   "nbconvert_exporter": "python",
   "pygments_lexer": "ipython3",
   "version": "3.7.4"
  }
 },
 "nbformat": 4,
 "nbformat_minor": 2
}
